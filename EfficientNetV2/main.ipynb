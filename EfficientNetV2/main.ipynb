{
 "cells": [
  {
   "cell_type": "code",
   "execution_count": null,
   "id": "1f4f7f12-a621-4384-8b98-dfa36e321367",
   "metadata": {},
   "outputs": [],
   "source": [
    "%run data_setup.ipynb\n",
    "%run train.ipynb\n",
    "%run EfficientNetV2.ipynb\n",
    "\n",
    "device = \"cuda\" if torch.cuda.is_available() else \"cpu\"\n",
    "\n",
    "train_dataloader , test_dataloader , num_classes = dataloaders()\n",
    "\n",
    "model = effnetv2_m().to(device)\n",
    "\n",
    "loss_fn = nn.CrossEntropyLoss()\n",
    "optimizer = torch.optim.RMSprop(params = model.parameters() , momentum = 0.9 , weight_decay = 1e-5)\n",
    "\n",
    "Efficient_results = train(model = model , train_dataloader = train_dataloader , \n",
    "                         test_dataloader = test_dataloader , loss_fn = loss_fn , optimizer = optimizer ,\n",
    "                         epochs = 10 , device = device)"
   ]
  }
 ],
 "metadata": {
  "kernelspec": {
   "display_name": "Python 3 (ipykernel)",
   "language": "python",
   "name": "python3"
  },
  "language_info": {
   "codemirror_mode": {
    "name": "ipython",
    "version": 3
   },
   "file_extension": ".py",
   "mimetype": "text/x-python",
   "name": "python",
   "nbconvert_exporter": "python",
   "pygments_lexer": "ipython3",
   "version": "3.10.8"
  }
 },
 "nbformat": 4,
 "nbformat_minor": 5
}
