{
 "cells": [
  {
   "cell_type": "code",
   "execution_count": 4,
   "id": "4d96e2af-dabf-48d9-aff3-5cfd75d20f17",
   "metadata": {},
   "outputs": [],
   "source": [
    "import os\n",
    "import torchvision\n",
    "from torchvision import transforms , datasets\n",
    "from torch.utils.data import DataLoader\n",
    "\n",
    "BATCH_SIZE = 32\n",
    "NUM_WORKERS = os.cpu_count()\n",
    "def dataloaders(batch_size = BATCH_SIZE , num_workers = NUM_WORKERS):\n",
    "    transform = transforms.Compose([transforms.RandomResizedCrop(224,scale=(0.9, 1.0),ratio = (0.9 ,1.1)),\n",
    "                                   transforms.CenterCrop(224),\n",
    "                                   transforms.RandomHorizontalFlip(),\n",
    "                                   transforms.ToTensor(),\n",
    "                                   transforms.Normalize(mean = [0.486 , 0.456 , 0.406] , std = [0.229 , 0.224 , 0.225])])\n",
    "    train_data = datasets.CIFAR10(root = \"/datasets\" , train = True , transform = transform , download = True)\n",
    "    test_data = datasets.CIFAR10(root = \"/datasets\" , train = False , transform = transform , download = True)\n",
    "\n",
    "    train_dataloader = DataLoader(dataset = train_data , batch_size = BATCH_SIZE , num_workers = NUM_WORKERS,\n",
    "                                 shuffle = True , pin_memory = True)\n",
    "    test_dataloader = DataLoader(dataset = test_data , batch_size = BATCH_SIZE , num_workers = NUM_WORKERS,\n",
    "                                shuffle = False , pin_memory = True)\n",
    "    num_classes = train_data.classes\n",
    "    return train_dataloader , test_dataloader , num_classes"
   ]
  }
 ],
 "metadata": {
  "kernelspec": {
   "display_name": "Python 3 (ipykernel)",
   "language": "python",
   "name": "python3"
  },
  "language_info": {
   "codemirror_mode": {
    "name": "ipython",
    "version": 3
   },
   "file_extension": ".py",
   "mimetype": "text/x-python",
   "name": "python",
   "nbconvert_exporter": "python",
   "pygments_lexer": "ipython3",
   "version": "3.10.8"
  }
 },
 "nbformat": 4,
 "nbformat_minor": 5
}
